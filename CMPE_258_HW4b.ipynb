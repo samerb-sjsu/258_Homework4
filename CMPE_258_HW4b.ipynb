{
  "nbformat": 4,
  "nbformat_minor": 0,
  "metadata": {
    "colab": {
      "name": "CMPE_258_HW4b.ipynb",
      "provenance": []
    },
    "kernelspec": {
      "name": "python3",
      "display_name": "Python 3"
    },
    "language_info": {
      "name": "python"
    },
    "accelerator": "GPU"
  },
  "cells": [
    {
      "cell_type": "markdown",
      "metadata": {
        "id": "3pHsGJu5NWrP"
      },
      "source": [
        "# Samer Baslan\n",
        "# CMPE-258: Deep Learning, Vijay Eranti\n",
        "# Spring 2021, SJSU\n",
        "# Homework 4 Part 2: MNIST classifier with various training knobs with Keras\n",
        "\n",
        "\n",
        "Resources used:\n",
        "1. https://machinelearningmastery.com/handwritten-digit-recognition-using-convolutional-neural-networks-python-keras/\n",
        "2. https://www.kaggle.com/yassineghouzam/introduction-to-cnn-keras-0-997-top-6\n",
        "3. https://www.kaggle.com/adityaecdrid/mnist-with-keras-for-beginners-99457\n",
        "4. https://machinelearningmastery.com/handwritten-digit-recognition-using-convolutional-neural-networks-python-keras/\n",
        "\n"
      ]
    },
    {
      "cell_type": "markdown",
      "metadata": {
        "id": "Q9X1BJDENj0x"
      },
      "source": [
        "##Imports"
      ]
    },
    {
      "cell_type": "code",
      "metadata": {
        "id": "S1pl0hj9NQs9"
      },
      "source": [
        "import numpy as np\n",
        "import matplotlib.pyplot as plt\n",
        "import math\n",
        "import itertools"
      ],
      "execution_count": 1,
      "outputs": []
    },
    {
      "cell_type": "code",
      "metadata": {
        "id": "rPCNtEeXOeMW"
      },
      "source": [
        "from keras.datasets import mnist\n",
        "from tensorflow.keras.layers.experimental import preprocessing\n",
        "from keras.utils import np_utils\n",
        "from keras.models import Sequential\n",
        "from keras.layers import Dense\n",
        "from keras.preprocessing.image import ImageDataGenerator\n",
        "from sklearn.model_selection import train_test_split\n",
        "from keras.utils.np_utils import to_categorical\n",
        "from keras.callbacks import ReduceLROnPlateau\n",
        "from keras.layers import Dropout, Flatten, Conv2D, MaxPool2D\n",
        "from sklearn.metrics import confusion_matrix\n"
      ],
      "execution_count": 2,
      "outputs": []
    },
    {
      "cell_type": "markdown",
      "metadata": {
        "id": "XGf5MUG7OjHP"
      },
      "source": [
        "##Function Definitions"
      ]
    },
    {
      "cell_type": "code",
      "metadata": {
        "id": "lqpQbdMPOmBW"
      },
      "source": [
        "def plot_confusion_matrix(true, pred):\n",
        "  cm = confusion_matrix(true, pred)\n",
        "  plt.imshow(cm, interpolation = \"nearest\", cmap = plt.cm.Reds)\n",
        "  labels = range(10)\n",
        "  ticks = np.arange(len(labels))\n",
        "  plt.xticks(ticks, labels, rotation = 45)\n",
        "  plt.yticks(ticks, labels)\n",
        "  thresh = cm.max() / 2.0\n",
        "  for i, j in itertools.product(range(cm.shape[0]), range(cm.shape[1])):\n",
        "    plt.text(j, i, cm[i, j], horizontalalignment = \"center\", color = \"white\" if cm[i, j] > thresh else \"black\")\n",
        "  plt.xlabel(\"Predicted\")\n",
        "  plt.ylabel(\"True\")\n",
        "  plt.title(\"Confusion Matrix\")\n",
        "  plt.tight_layout()\n",
        "  plt.show()"
      ],
      "execution_count": 3,
      "outputs": []
    },
    {
      "cell_type": "code",
      "metadata": {
        "id": "VAI9WoiZqIze"
      },
      "source": [
        "def display_errors(images, true, pred):\n",
        "  errors = pred - true != 0\n",
        "  error_images = images[errors]\n",
        "  error_true = true[errors]\n",
        "  error_pred = pred[errors]\n",
        "  count = len(error_images)\n",
        "  idx = 0\n",
        "  rows = 3\n",
        "  cols = 3\n",
        "  fig, ax = plt.subplots(rows, cols, sharex = True, sharey = True, figsize = (20,50))\n",
        "  for row in range(rows):\n",
        "    for col in range(cols):\n",
        "      if idx < count:\n",
        "        ax[row, col].imshow(error_images[idx].reshape(28,28))\n",
        "        ax[row, col].set_title(f\"Predicted Label: {error_pred[idx]} \\n Actual: {error_true[idx]}\")\n",
        "        idx += 1\n",
        "  plt.show()\n"
      ],
      "execution_count": 4,
      "outputs": []
    },
    {
      "cell_type": "markdown",
      "metadata": {
        "id": "S4k44aZtOtkd"
      },
      "source": [
        "##Parameters"
      ]
    },
    {
      "cell_type": "code",
      "metadata": {
        "id": "JGC-bSLKOuKm"
      },
      "source": [
        "LEARNING_RATE = 0.00001\n",
        "BATCH = 35\n",
        "NUM_PIXELS = 784\n",
        "NUM_CLASSES = 10\n",
        "EPOCHS = 12 #turn to 30 to get better accuracy"
      ],
      "execution_count": 5,
      "outputs": []
    },
    {
      "cell_type": "markdown",
      "metadata": {
        "id": "27Xr-ZuMSCUZ"
      },
      "source": [
        "##Load Data"
      ]
    },
    {
      "cell_type": "code",
      "metadata": {
        "colab": {
          "base_uri": "https://localhost:8080/"
        },
        "id": "O56phQw5bF4y",
        "outputId": "91cdd5d5-9f57-4e89-b53b-32e6261a13be"
      },
      "source": [
        "(X_train, y_train), _ = mnist.load_data()"
      ],
      "execution_count": 6,
      "outputs": [
        {
          "output_type": "stream",
          "text": [
            "Downloading data from https://storage.googleapis.com/tensorflow/tf-keras-datasets/mnist.npz\n",
            "11493376/11490434 [==============================] - 0s 0us/step\n"
          ],
          "name": "stdout"
        }
      ]
    },
    {
      "cell_type": "code",
      "metadata": {
        "id": "SRdRzDi43Xp1"
      },
      "source": [
        "X_train, y_train = X_train.astype(\"float32\") / 255, y_train.astype(\"int64\")\n",
        "X_train, X_valid, y_train, y_valid = train_test_split(X_train, y_train, test_size=0.1)\n",
        "X_train, X_valid = np.expand_dims(X_train, axis=-1), np.expand_dims(X_valid, axis=-1)\n",
        "y_train, y_valid, actual_valid = to_categorical(y_train, num_classes=10), to_categorical(y_valid, num_classes=10), y_valid"
      ],
      "execution_count": 7,
      "outputs": []
    },
    {
      "cell_type": "markdown",
      "metadata": {
        "id": "DU2gJop_ZNJM"
      },
      "source": [
        "##Normalize Inputs"
      ]
    },
    {
      "cell_type": "code",
      "metadata": {
        "colab": {
          "base_uri": "https://localhost:8080/"
        },
        "id": "G7J2PSh8ZR8n",
        "outputId": "678a6a0e-7761-4b4c-e58c-397554bce2bf"
      },
      "source": [
        "normalization_layer = preprocessing.Normalization()\n",
        "normalization_layer.adapt(X_train)\n",
        "normalization_layer(X_train)"
      ],
      "execution_count": 8,
      "outputs": [
        {
          "output_type": "execute_result",
          "data": {
            "text/plain": [
              "<tf.Tensor: shape=(54000, 28, 28, 1), dtype=float32, numpy=\n",
              "array([[[[-0.4241355],\n",
              "         [-0.4241355],\n",
              "         [-0.4241355],\n",
              "         ...,\n",
              "         [-0.4241355],\n",
              "         [-0.4241355],\n",
              "         [-0.4241355]],\n",
              "\n",
              "        [[-0.4241355],\n",
              "         [-0.4241355],\n",
              "         [-0.4241355],\n",
              "         ...,\n",
              "         [-0.4241355],\n",
              "         [-0.4241355],\n",
              "         [-0.4241355]],\n",
              "\n",
              "        [[-0.4241355],\n",
              "         [-0.4241355],\n",
              "         [-0.4241355],\n",
              "         ...,\n",
              "         [-0.4241355],\n",
              "         [-0.4241355],\n",
              "         [-0.4241355]],\n",
              "\n",
              "        ...,\n",
              "\n",
              "        [[-0.4241355],\n",
              "         [-0.4241355],\n",
              "         [-0.4241355],\n",
              "         ...,\n",
              "         [-0.4241355],\n",
              "         [-0.4241355],\n",
              "         [-0.4241355]],\n",
              "\n",
              "        [[-0.4241355],\n",
              "         [-0.4241355],\n",
              "         [-0.4241355],\n",
              "         ...,\n",
              "         [-0.4241355],\n",
              "         [-0.4241355],\n",
              "         [-0.4241355]],\n",
              "\n",
              "        [[-0.4241355],\n",
              "         [-0.4241355],\n",
              "         [-0.4241355],\n",
              "         ...,\n",
              "         [-0.4241355],\n",
              "         [-0.4241355],\n",
              "         [-0.4241355]]],\n",
              "\n",
              "\n",
              "       [[[-0.4241355],\n",
              "         [-0.4241355],\n",
              "         [-0.4241355],\n",
              "         ...,\n",
              "         [-0.4241355],\n",
              "         [-0.4241355],\n",
              "         [-0.4241355]],\n",
              "\n",
              "        [[-0.4241355],\n",
              "         [-0.4241355],\n",
              "         [-0.4241355],\n",
              "         ...,\n",
              "         [-0.4241355],\n",
              "         [-0.4241355],\n",
              "         [-0.4241355]],\n",
              "\n",
              "        [[-0.4241355],\n",
              "         [-0.4241355],\n",
              "         [-0.4241355],\n",
              "         ...,\n",
              "         [-0.4241355],\n",
              "         [-0.4241355],\n",
              "         [-0.4241355]],\n",
              "\n",
              "        ...,\n",
              "\n",
              "        [[-0.4241355],\n",
              "         [-0.4241355],\n",
              "         [-0.4241355],\n",
              "         ...,\n",
              "         [-0.4241355],\n",
              "         [-0.4241355],\n",
              "         [-0.4241355]],\n",
              "\n",
              "        [[-0.4241355],\n",
              "         [-0.4241355],\n",
              "         [-0.4241355],\n",
              "         ...,\n",
              "         [-0.4241355],\n",
              "         [-0.4241355],\n",
              "         [-0.4241355]],\n",
              "\n",
              "        [[-0.4241355],\n",
              "         [-0.4241355],\n",
              "         [-0.4241355],\n",
              "         ...,\n",
              "         [-0.4241355],\n",
              "         [-0.4241355],\n",
              "         [-0.4241355]]],\n",
              "\n",
              "\n",
              "       [[[-0.4241355],\n",
              "         [-0.4241355],\n",
              "         [-0.4241355],\n",
              "         ...,\n",
              "         [-0.4241355],\n",
              "         [-0.4241355],\n",
              "         [-0.4241355]],\n",
              "\n",
              "        [[-0.4241355],\n",
              "         [-0.4241355],\n",
              "         [-0.4241355],\n",
              "         ...,\n",
              "         [-0.4241355],\n",
              "         [-0.4241355],\n",
              "         [-0.4241355]],\n",
              "\n",
              "        [[-0.4241355],\n",
              "         [-0.4241355],\n",
              "         [-0.4241355],\n",
              "         ...,\n",
              "         [-0.4241355],\n",
              "         [-0.4241355],\n",
              "         [-0.4241355]],\n",
              "\n",
              "        ...,\n",
              "\n",
              "        [[-0.4241355],\n",
              "         [-0.4241355],\n",
              "         [-0.4241355],\n",
              "         ...,\n",
              "         [-0.4241355],\n",
              "         [-0.4241355],\n",
              "         [-0.4241355]],\n",
              "\n",
              "        [[-0.4241355],\n",
              "         [-0.4241355],\n",
              "         [-0.4241355],\n",
              "         ...,\n",
              "         [-0.4241355],\n",
              "         [-0.4241355],\n",
              "         [-0.4241355]],\n",
              "\n",
              "        [[-0.4241355],\n",
              "         [-0.4241355],\n",
              "         [-0.4241355],\n",
              "         ...,\n",
              "         [-0.4241355],\n",
              "         [-0.4241355],\n",
              "         [-0.4241355]]],\n",
              "\n",
              "\n",
              "       ...,\n",
              "\n",
              "\n",
              "       [[[-0.4241355],\n",
              "         [-0.4241355],\n",
              "         [-0.4241355],\n",
              "         ...,\n",
              "         [-0.4241355],\n",
              "         [-0.4241355],\n",
              "         [-0.4241355]],\n",
              "\n",
              "        [[-0.4241355],\n",
              "         [-0.4241355],\n",
              "         [-0.4241355],\n",
              "         ...,\n",
              "         [-0.4241355],\n",
              "         [-0.4241355],\n",
              "         [-0.4241355]],\n",
              "\n",
              "        [[-0.4241355],\n",
              "         [-0.4241355],\n",
              "         [-0.4241355],\n",
              "         ...,\n",
              "         [-0.4241355],\n",
              "         [-0.4241355],\n",
              "         [-0.4241355]],\n",
              "\n",
              "        ...,\n",
              "\n",
              "        [[-0.4241355],\n",
              "         [-0.4241355],\n",
              "         [-0.4241355],\n",
              "         ...,\n",
              "         [-0.4241355],\n",
              "         [-0.4241355],\n",
              "         [-0.4241355]],\n",
              "\n",
              "        [[-0.4241355],\n",
              "         [-0.4241355],\n",
              "         [-0.4241355],\n",
              "         ...,\n",
              "         [-0.4241355],\n",
              "         [-0.4241355],\n",
              "         [-0.4241355]],\n",
              "\n",
              "        [[-0.4241355],\n",
              "         [-0.4241355],\n",
              "         [-0.4241355],\n",
              "         ...,\n",
              "         [-0.4241355],\n",
              "         [-0.4241355],\n",
              "         [-0.4241355]]],\n",
              "\n",
              "\n",
              "       [[[-0.4241355],\n",
              "         [-0.4241355],\n",
              "         [-0.4241355],\n",
              "         ...,\n",
              "         [-0.4241355],\n",
              "         [-0.4241355],\n",
              "         [-0.4241355]],\n",
              "\n",
              "        [[-0.4241355],\n",
              "         [-0.4241355],\n",
              "         [-0.4241355],\n",
              "         ...,\n",
              "         [-0.4241355],\n",
              "         [-0.4241355],\n",
              "         [-0.4241355]],\n",
              "\n",
              "        [[-0.4241355],\n",
              "         [-0.4241355],\n",
              "         [-0.4241355],\n",
              "         ...,\n",
              "         [-0.4241355],\n",
              "         [-0.4241355],\n",
              "         [-0.4241355]],\n",
              "\n",
              "        ...,\n",
              "\n",
              "        [[-0.4241355],\n",
              "         [-0.4241355],\n",
              "         [-0.4241355],\n",
              "         ...,\n",
              "         [-0.4241355],\n",
              "         [-0.4241355],\n",
              "         [-0.4241355]],\n",
              "\n",
              "        [[-0.4241355],\n",
              "         [-0.4241355],\n",
              "         [-0.4241355],\n",
              "         ...,\n",
              "         [-0.4241355],\n",
              "         [-0.4241355],\n",
              "         [-0.4241355]],\n",
              "\n",
              "        [[-0.4241355],\n",
              "         [-0.4241355],\n",
              "         [-0.4241355],\n",
              "         ...,\n",
              "         [-0.4241355],\n",
              "         [-0.4241355],\n",
              "         [-0.4241355]]],\n",
              "\n",
              "\n",
              "       [[[-0.4241355],\n",
              "         [-0.4241355],\n",
              "         [-0.4241355],\n",
              "         ...,\n",
              "         [-0.4241355],\n",
              "         [-0.4241355],\n",
              "         [-0.4241355]],\n",
              "\n",
              "        [[-0.4241355],\n",
              "         [-0.4241355],\n",
              "         [-0.4241355],\n",
              "         ...,\n",
              "         [-0.4241355],\n",
              "         [-0.4241355],\n",
              "         [-0.4241355]],\n",
              "\n",
              "        [[-0.4241355],\n",
              "         [-0.4241355],\n",
              "         [-0.4241355],\n",
              "         ...,\n",
              "         [-0.4241355],\n",
              "         [-0.4241355],\n",
              "         [-0.4241355]],\n",
              "\n",
              "        ...,\n",
              "\n",
              "        [[-0.4241355],\n",
              "         [-0.4241355],\n",
              "         [-0.4241355],\n",
              "         ...,\n",
              "         [-0.4241355],\n",
              "         [-0.4241355],\n",
              "         [-0.4241355]],\n",
              "\n",
              "        [[-0.4241355],\n",
              "         [-0.4241355],\n",
              "         [-0.4241355],\n",
              "         ...,\n",
              "         [-0.4241355],\n",
              "         [-0.4241355],\n",
              "         [-0.4241355]],\n",
              "\n",
              "        [[-0.4241355],\n",
              "         [-0.4241355],\n",
              "         [-0.4241355],\n",
              "         ...,\n",
              "         [-0.4241355],\n",
              "         [-0.4241355],\n",
              "         [-0.4241355]]]], dtype=float32)>"
            ]
          },
          "metadata": {
            "tags": []
          },
          "execution_count": 8
        }
      ]
    },
    {
      "cell_type": "code",
      "metadata": {
        "colab": {
          "base_uri": "https://localhost:8080/"
        },
        "id": "zRWzT7swZwKD",
        "outputId": "66af8929-fabe-4b20-f501-d8af150b2be0"
      },
      "source": [
        "normalization_layer.adapt(X_valid)\n",
        "normalization_layer(X_valid)"
      ],
      "execution_count": 9,
      "outputs": [
        {
          "output_type": "execute_result",
          "data": {
            "text/plain": [
              "<tf.Tensor: shape=(6000, 28, 28, 1), dtype=float32, numpy=\n",
              "array([[[[-0.4235193],\n",
              "         [-0.4235193],\n",
              "         [-0.4235193],\n",
              "         ...,\n",
              "         [-0.4235193],\n",
              "         [-0.4235193],\n",
              "         [-0.4235193]],\n",
              "\n",
              "        [[-0.4235193],\n",
              "         [-0.4235193],\n",
              "         [-0.4235193],\n",
              "         ...,\n",
              "         [-0.4235193],\n",
              "         [-0.4235193],\n",
              "         [-0.4235193]],\n",
              "\n",
              "        [[-0.4235193],\n",
              "         [-0.4235193],\n",
              "         [-0.4235193],\n",
              "         ...,\n",
              "         [-0.4235193],\n",
              "         [-0.4235193],\n",
              "         [-0.4235193]],\n",
              "\n",
              "        ...,\n",
              "\n",
              "        [[-0.4235193],\n",
              "         [-0.4235193],\n",
              "         [-0.4235193],\n",
              "         ...,\n",
              "         [-0.4235193],\n",
              "         [-0.4235193],\n",
              "         [-0.4235193]],\n",
              "\n",
              "        [[-0.4235193],\n",
              "         [-0.4235193],\n",
              "         [-0.4235193],\n",
              "         ...,\n",
              "         [-0.4235193],\n",
              "         [-0.4235193],\n",
              "         [-0.4235193]],\n",
              "\n",
              "        [[-0.4235193],\n",
              "         [-0.4235193],\n",
              "         [-0.4235193],\n",
              "         ...,\n",
              "         [-0.4235193],\n",
              "         [-0.4235193],\n",
              "         [-0.4235193]]],\n",
              "\n",
              "\n",
              "       [[[-0.4235193],\n",
              "         [-0.4235193],\n",
              "         [-0.4235193],\n",
              "         ...,\n",
              "         [-0.4235193],\n",
              "         [-0.4235193],\n",
              "         [-0.4235193]],\n",
              "\n",
              "        [[-0.4235193],\n",
              "         [-0.4235193],\n",
              "         [-0.4235193],\n",
              "         ...,\n",
              "         [-0.4235193],\n",
              "         [-0.4235193],\n",
              "         [-0.4235193]],\n",
              "\n",
              "        [[-0.4235193],\n",
              "         [-0.4235193],\n",
              "         [-0.4235193],\n",
              "         ...,\n",
              "         [-0.4235193],\n",
              "         [-0.4235193],\n",
              "         [-0.4235193]],\n",
              "\n",
              "        ...,\n",
              "\n",
              "        [[-0.4235193],\n",
              "         [-0.4235193],\n",
              "         [-0.4235193],\n",
              "         ...,\n",
              "         [-0.4235193],\n",
              "         [-0.4235193],\n",
              "         [-0.4235193]],\n",
              "\n",
              "        [[-0.4235193],\n",
              "         [-0.4235193],\n",
              "         [-0.4235193],\n",
              "         ...,\n",
              "         [-0.4235193],\n",
              "         [-0.4235193],\n",
              "         [-0.4235193]],\n",
              "\n",
              "        [[-0.4235193],\n",
              "         [-0.4235193],\n",
              "         [-0.4235193],\n",
              "         ...,\n",
              "         [-0.4235193],\n",
              "         [-0.4235193],\n",
              "         [-0.4235193]]],\n",
              "\n",
              "\n",
              "       [[[-0.4235193],\n",
              "         [-0.4235193],\n",
              "         [-0.4235193],\n",
              "         ...,\n",
              "         [-0.4235193],\n",
              "         [-0.4235193],\n",
              "         [-0.4235193]],\n",
              "\n",
              "        [[-0.4235193],\n",
              "         [-0.4235193],\n",
              "         [-0.4235193],\n",
              "         ...,\n",
              "         [-0.4235193],\n",
              "         [-0.4235193],\n",
              "         [-0.4235193]],\n",
              "\n",
              "        [[-0.4235193],\n",
              "         [-0.4235193],\n",
              "         [-0.4235193],\n",
              "         ...,\n",
              "         [-0.4235193],\n",
              "         [-0.4235193],\n",
              "         [-0.4235193]],\n",
              "\n",
              "        ...,\n",
              "\n",
              "        [[-0.4235193],\n",
              "         [-0.4235193],\n",
              "         [-0.4235193],\n",
              "         ...,\n",
              "         [-0.4235193],\n",
              "         [-0.4235193],\n",
              "         [-0.4235193]],\n",
              "\n",
              "        [[-0.4235193],\n",
              "         [-0.4235193],\n",
              "         [-0.4235193],\n",
              "         ...,\n",
              "         [-0.4235193],\n",
              "         [-0.4235193],\n",
              "         [-0.4235193]],\n",
              "\n",
              "        [[-0.4235193],\n",
              "         [-0.4235193],\n",
              "         [-0.4235193],\n",
              "         ...,\n",
              "         [-0.4235193],\n",
              "         [-0.4235193],\n",
              "         [-0.4235193]]],\n",
              "\n",
              "\n",
              "       ...,\n",
              "\n",
              "\n",
              "       [[[-0.4235193],\n",
              "         [-0.4235193],\n",
              "         [-0.4235193],\n",
              "         ...,\n",
              "         [-0.4235193],\n",
              "         [-0.4235193],\n",
              "         [-0.4235193]],\n",
              "\n",
              "        [[-0.4235193],\n",
              "         [-0.4235193],\n",
              "         [-0.4235193],\n",
              "         ...,\n",
              "         [-0.4235193],\n",
              "         [-0.4235193],\n",
              "         [-0.4235193]],\n",
              "\n",
              "        [[-0.4235193],\n",
              "         [-0.4235193],\n",
              "         [-0.4235193],\n",
              "         ...,\n",
              "         [-0.4235193],\n",
              "         [-0.4235193],\n",
              "         [-0.4235193]],\n",
              "\n",
              "        ...,\n",
              "\n",
              "        [[-0.4235193],\n",
              "         [-0.4235193],\n",
              "         [-0.4235193],\n",
              "         ...,\n",
              "         [-0.4235193],\n",
              "         [-0.4235193],\n",
              "         [-0.4235193]],\n",
              "\n",
              "        [[-0.4235193],\n",
              "         [-0.4235193],\n",
              "         [-0.4235193],\n",
              "         ...,\n",
              "         [-0.4235193],\n",
              "         [-0.4235193],\n",
              "         [-0.4235193]],\n",
              "\n",
              "        [[-0.4235193],\n",
              "         [-0.4235193],\n",
              "         [-0.4235193],\n",
              "         ...,\n",
              "         [-0.4235193],\n",
              "         [-0.4235193],\n",
              "         [-0.4235193]]],\n",
              "\n",
              "\n",
              "       [[[-0.4235193],\n",
              "         [-0.4235193],\n",
              "         [-0.4235193],\n",
              "         ...,\n",
              "         [-0.4235193],\n",
              "         [-0.4235193],\n",
              "         [-0.4235193]],\n",
              "\n",
              "        [[-0.4235193],\n",
              "         [-0.4235193],\n",
              "         [-0.4235193],\n",
              "         ...,\n",
              "         [-0.4235193],\n",
              "         [-0.4235193],\n",
              "         [-0.4235193]],\n",
              "\n",
              "        [[-0.4235193],\n",
              "         [-0.4235193],\n",
              "         [-0.4235193],\n",
              "         ...,\n",
              "         [-0.4235193],\n",
              "         [-0.4235193],\n",
              "         [-0.4235193]],\n",
              "\n",
              "        ...,\n",
              "\n",
              "        [[-0.4235193],\n",
              "         [-0.4235193],\n",
              "         [-0.4235193],\n",
              "         ...,\n",
              "         [-0.4235193],\n",
              "         [-0.4235193],\n",
              "         [-0.4235193]],\n",
              "\n",
              "        [[-0.4235193],\n",
              "         [-0.4235193],\n",
              "         [-0.4235193],\n",
              "         ...,\n",
              "         [-0.4235193],\n",
              "         [-0.4235193],\n",
              "         [-0.4235193]],\n",
              "\n",
              "        [[-0.4235193],\n",
              "         [-0.4235193],\n",
              "         [-0.4235193],\n",
              "         ...,\n",
              "         [-0.4235193],\n",
              "         [-0.4235193],\n",
              "         [-0.4235193]]],\n",
              "\n",
              "\n",
              "       [[[-0.4235193],\n",
              "         [-0.4235193],\n",
              "         [-0.4235193],\n",
              "         ...,\n",
              "         [-0.4235193],\n",
              "         [-0.4235193],\n",
              "         [-0.4235193]],\n",
              "\n",
              "        [[-0.4235193],\n",
              "         [-0.4235193],\n",
              "         [-0.4235193],\n",
              "         ...,\n",
              "         [-0.4235193],\n",
              "         [-0.4235193],\n",
              "         [-0.4235193]],\n",
              "\n",
              "        [[-0.4235193],\n",
              "         [-0.4235193],\n",
              "         [-0.4235193],\n",
              "         ...,\n",
              "         [-0.4235193],\n",
              "         [-0.4235193],\n",
              "         [-0.4235193]],\n",
              "\n",
              "        ...,\n",
              "\n",
              "        [[-0.4235193],\n",
              "         [-0.4235193],\n",
              "         [-0.4235193],\n",
              "         ...,\n",
              "         [-0.4235193],\n",
              "         [-0.4235193],\n",
              "         [-0.4235193]],\n",
              "\n",
              "        [[-0.4235193],\n",
              "         [-0.4235193],\n",
              "         [-0.4235193],\n",
              "         ...,\n",
              "         [-0.4235193],\n",
              "         [-0.4235193],\n",
              "         [-0.4235193]],\n",
              "\n",
              "        [[-0.4235193],\n",
              "         [-0.4235193],\n",
              "         [-0.4235193],\n",
              "         ...,\n",
              "         [-0.4235193],\n",
              "         [-0.4235193],\n",
              "         [-0.4235193]]]], dtype=float32)>"
            ]
          },
          "metadata": {
            "tags": []
          },
          "execution_count": 9
        }
      ]
    },
    {
      "cell_type": "markdown",
      "metadata": {
        "id": "P7ouAr36OwEp"
      },
      "source": [
        "##Model Definition\n",
        "Reference: \n",
        "https://www.kaggle.com/yassineghouzam/introduction-to-cnn-keras-0-997-top-6"
      ]
    },
    {
      "cell_type": "code",
      "metadata": {
        "colab": {
          "base_uri": "https://localhost:8080/"
        },
        "id": "-EWe4bgcOxEt",
        "outputId": "6030c6ee-ff76-4c01-a1aa-28597b56c7d3"
      },
      "source": [
        "model = Sequential()\n",
        "model.add(Conv2D(filters=32, kernel_size=(5, 5), padding=\"Same\", activation=\"relu\", input_shape=(28, 28, 1)))\n",
        "model.add(Conv2D(filters=32, kernel_size=(5, 5), padding=\"Same\", activation=\"relu\"))\n",
        "model.add(MaxPool2D((2, 2)))\n",
        "model.add(Dropout(0.25))\n",
        "model.add(Conv2D(filters=64, kernel_size=(3, 3), padding=\"Same\", activation=\"relu\"))\n",
        "model.add(Conv2D(filters=64, kernel_size=(3, 3), padding=\"Same\", activation=\"relu\"))\n",
        "model.add(MaxPool2D(pool_size=(2, 2), strides=(2, 2)))\n",
        "model.add(Dropout(0.25))\n",
        "model.add(Flatten())\n",
        "model.add(Dense(256, activation=\"relu\"))\n",
        "model.add(Dropout(0.5))\n",
        "model.add(Dense(10, activation=\"softmax\"))\n",
        "model.compile(loss=\"categorical_crossentropy\", metrics=[\"accuracy\"])\n",
        "model.summary()"
      ],
      "execution_count": 10,
      "outputs": [
        {
          "output_type": "stream",
          "text": [
            "Model: \"sequential\"\n",
            "_________________________________________________________________\n",
            "Layer (type)                 Output Shape              Param #   \n",
            "=================================================================\n",
            "conv2d (Conv2D)              (None, 28, 28, 32)        832       \n",
            "_________________________________________________________________\n",
            "conv2d_1 (Conv2D)            (None, 28, 28, 32)        25632     \n",
            "_________________________________________________________________\n",
            "max_pooling2d (MaxPooling2D) (None, 14, 14, 32)        0         \n",
            "_________________________________________________________________\n",
            "dropout (Dropout)            (None, 14, 14, 32)        0         \n",
            "_________________________________________________________________\n",
            "conv2d_2 (Conv2D)            (None, 14, 14, 64)        18496     \n",
            "_________________________________________________________________\n",
            "conv2d_3 (Conv2D)            (None, 14, 14, 64)        36928     \n",
            "_________________________________________________________________\n",
            "max_pooling2d_1 (MaxPooling2 (None, 7, 7, 64)          0         \n",
            "_________________________________________________________________\n",
            "dropout_1 (Dropout)          (None, 7, 7, 64)          0         \n",
            "_________________________________________________________________\n",
            "flatten (Flatten)            (None, 3136)              0         \n",
            "_________________________________________________________________\n",
            "dense (Dense)                (None, 256)               803072    \n",
            "_________________________________________________________________\n",
            "dropout_2 (Dropout)          (None, 256)               0         \n",
            "_________________________________________________________________\n",
            "dense_1 (Dense)              (None, 10)                2570      \n",
            "=================================================================\n",
            "Total params: 887,530\n",
            "Trainable params: 887,530\n",
            "Non-trainable params: 0\n",
            "_________________________________________________________________\n"
          ],
          "name": "stdout"
        }
      ]
    },
    {
      "cell_type": "markdown",
      "metadata": {
        "id": "SI7EigeEalMX"
      },
      "source": [
        "##Image Augmentation"
      ]
    },
    {
      "cell_type": "code",
      "metadata": {
        "id": "xlwB7C7saWin"
      },
      "source": [
        "datagen = ImageDataGenerator(\n",
        "        rotation_range=10,  # randomly rotate images in the range (degrees, 0 to 180)\n",
        "        zoom_range = 0.1, # Randomly zoom image \n",
        "        width_shift_range=0.1,  # randomly shift images horizontally (fraction of total width)\n",
        "        height_shift_range=0.1,  # randomly shift images vertically (fraction of total height)\n",
        ")\n",
        "\n",
        "datagen.fit(X_train)"
      ],
      "execution_count": 11,
      "outputs": []
    },
    {
      "cell_type": "markdown",
      "metadata": {
        "id": "w0DkTquqsZse"
      },
      "source": [
        "##Learning Rate Reduction"
      ]
    },
    {
      "cell_type": "code",
      "metadata": {
        "id": "aMfgraRjavRL"
      },
      "source": [
        "learning_rate_reduction = ReduceLROnPlateau(monitor=\"val_accuracy\", patience=3, verbose = 1, factor=0.5, min_lr=LEARNING_RATE)"
      ],
      "execution_count": 12,
      "outputs": []
    },
    {
      "cell_type": "code",
      "metadata": {
        "colab": {
          "base_uri": "https://localhost:8080/"
        },
        "id": "oawDBg6qdqH1",
        "outputId": "6d340f1b-3f3a-4948-994a-24df4f4424f3"
      },
      "source": [
        "history = model.fit(datagen.flow(X_train,y_train, batch_size=BATCH),\n",
        "                              epochs = EPOCHS, validation_data = (X_valid,y_valid), steps_per_epoch=(X_train.shape[0] // BATCH)\n",
        "                              , callbacks=[learning_rate_reduction])"
      ],
      "execution_count": 13,
      "outputs": [
        {
          "output_type": "stream",
          "text": [
            "Epoch 1/12\n",
            "1542/1542 [==============================] - 64s 22ms/step - loss: 0.5496 - accuracy: 0.8186 - val_loss: 0.0478 - val_accuracy: 0.9863\n",
            "Epoch 2/12\n",
            "1542/1542 [==============================] - 32s 21ms/step - loss: 0.1083 - accuracy: 0.9683 - val_loss: 0.0402 - val_accuracy: 0.9890\n",
            "Epoch 3/12\n",
            "1542/1542 [==============================] - 33s 21ms/step - loss: 0.0919 - accuracy: 0.9747 - val_loss: 0.0525 - val_accuracy: 0.9858\n",
            "Epoch 4/12\n",
            "1542/1542 [==============================] - 33s 21ms/step - loss: 0.0900 - accuracy: 0.9754 - val_loss: 0.0576 - val_accuracy: 0.9863\n",
            "Epoch 5/12\n",
            "1542/1542 [==============================] - 33s 21ms/step - loss: 0.0937 - accuracy: 0.9751 - val_loss: 0.0526 - val_accuracy: 0.9888\n",
            "\n",
            "Epoch 00005: ReduceLROnPlateau reducing learning rate to 0.0005000000237487257.\n",
            "Epoch 6/12\n",
            "1542/1542 [==============================] - 33s 21ms/step - loss: 0.0762 - accuracy: 0.9788 - val_loss: 0.0475 - val_accuracy: 0.9908\n",
            "Epoch 7/12\n",
            "1542/1542 [==============================] - 32s 21ms/step - loss: 0.0739 - accuracy: 0.9809 - val_loss: 0.0420 - val_accuracy: 0.9915\n",
            "Epoch 8/12\n",
            "1542/1542 [==============================] - 33s 21ms/step - loss: 0.0702 - accuracy: 0.9816 - val_loss: 0.0486 - val_accuracy: 0.9900\n",
            "Epoch 9/12\n",
            "1542/1542 [==============================] - 32s 21ms/step - loss: 0.0812 - accuracy: 0.9791 - val_loss: 0.0382 - val_accuracy: 0.9903\n",
            "Epoch 10/12\n",
            "1542/1542 [==============================] - 33s 21ms/step - loss: 0.0870 - accuracy: 0.9789 - val_loss: 0.0748 - val_accuracy: 0.9855\n",
            "\n",
            "Epoch 00010: ReduceLROnPlateau reducing learning rate to 0.0002500000118743628.\n",
            "Epoch 11/12\n",
            "1542/1542 [==============================] - 32s 21ms/step - loss: 0.0680 - accuracy: 0.9819 - val_loss: 0.0577 - val_accuracy: 0.9902\n",
            "Epoch 12/12\n",
            "1542/1542 [==============================] - 32s 21ms/step - loss: 0.0598 - accuracy: 0.9832 - val_loss: 0.0589 - val_accuracy: 0.9897\n"
          ],
          "name": "stdout"
        }
      ]
    },
    {
      "cell_type": "markdown",
      "metadata": {
        "id": "7vMj1OaykaOI"
      },
      "source": [
        "##Model Evaluation\n",
        "\n",
        "Looks like it goes up to 99% on validation set"
      ]
    },
    {
      "cell_type": "code",
      "metadata": {
        "colab": {
          "base_uri": "https://localhost:8080/",
          "height": 265
        },
        "id": "sS5xLluFg2C_",
        "outputId": "a8a41f5f-b00e-4966-cb3a-a3a93315729b"
      },
      "source": [
        "# Plot the loss and accuracy curves for training and validation\n",
        "\n",
        "plt.plot(history.history[\"accuracy\"], label=\"Train Accuracy\")\n",
        "plt.plot(history.history[\"val_accuracy\"], label=\"Valid Accuracy\")\n",
        "plt.legend()\n",
        "plt.grid()\n",
        "plt.show()"
      ],
      "execution_count": 17,
      "outputs": [
        {
          "output_type": "display_data",
          "data": {
            "image/png": "[encoded data removed]",
            "text/plain": [
              "<Figure size 432x288 with 1 Axes>"
            ]
          },
          "metadata": {
            "tags": [],
            "needs_background": "light"
          }
        }
      ]
    },
    {
      "cell_type": "markdown",
      "metadata": {
        "id": "zW3Qig9vsHtE"
      },
      "source": [
        "### Confusion Matrix"
      ]
    },
    {
      "cell_type": "code",
      "metadata": {
        "colab": {
          "base_uri": "https://localhost:8080/",
          "height": 297
        },
        "id": "cTqqgQRFlJwd",
        "outputId": "44441997-2768-46c1-f073-27661d2d4012"
      },
      "source": [
        "pred_valid = np.argmax(model.predict(X_valid), axis=1) \n",
        "plot_confusion_matrix(actual_valid, pred_valid)"
      ],
      "execution_count": 15,
      "outputs": [
        {
          "output_type": "display_data",
          "data": {
            "image/png": "[encoded data removed]",
            "text/plain": [
              "<Figure size 432x288 with 1 Axes>"
            ]
          },
          "metadata": {
            "tags": [],
            "needs_background": "light"
          }
        }
      ]
    },
    {
      "cell_type": "markdown",
      "metadata": {
        "id": "xfQFpkXPr7OH"
      },
      "source": [
        "###Display Prediction Errors\n",
        "\n",
        "Should cut them some slack over these badly drawn digits"
      ]
    },
    {
      "cell_type": "code",
      "metadata": {
        "colab": {
          "base_uri": "https://localhost:8080/",
          "height": 1000
        },
        "id": "LE3THpu0ohwA",
        "outputId": "632d0f61-aa47-4a14-b2a9-481728ad1bea"
      },
      "source": [
        "display_errors(X_valid, actual_valid, pred_valid)"
      ],
      "execution_count": 16,
      "outputs": [
        {
          "output_type": "display_data",
          "data": {
            "image/png": "[encoded data removed]",
            "text/plain": [
              "<Figure size 1440x3600 with 9 Axes>"
            ]
          },
          "metadata": {
            "tags": [],
            "needs_background": "light"
          }
        }
      ]
    }
  ]
}